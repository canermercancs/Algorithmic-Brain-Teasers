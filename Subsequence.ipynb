{
 "cells": [
  {
   "cell_type": "markdown",
   "metadata": {},
   "source": [
    "## Longest Increasing Substring/Subsequence"
   ]
  },
  {
   "cell_type": "markdown",
   "metadata": {},
   "source": [
    "Find the longest increasing sub array of elements inside an array."
   ]
  },
  {
   "cell_type": "code",
   "execution_count": 16,
   "metadata": {},
   "outputs": [
    {
     "name": "stdout",
     "output_type": "stream",
     "text": [
      "The longest subsequence: [-3, -2, 0, 1, 2]\n",
      "\n",
      "Precedence list of arr values: \n",
      "(array value followed by the index of its preceding value)\n",
      "(3, -1)(4, 0)(-3, -1)(-2, 2)(6, 3)(2, 3)(3, 5)(0, 3)(1, 7)(2, 8)\n"
     ]
    }
   ],
   "source": [
    "from dynamic_programming.subsequence import lis\n",
    "\n",
    "arr = [3,4,-3,-2,6,2,3,0,1,2]\n",
    "seq, T, P = lis(arr)\n",
    "\n",
    "print(f'The longest subsequence: {seq}\\n')\n",
    "print('Precedence list of arr values: ')\n",
    "print('(array value followed by the index of its preceding value)')\n",
    "print(''.join(map(str, [vals for vals in zip(arr,P)])))\n"
   ]
  }
 ],
 "metadata": {
  "kernelspec": {
   "display_name": "Python 3",
   "language": "python",
   "name": "python3"
  },
  "language_info": {
   "codemirror_mode": {
    "name": "ipython",
    "version": 3
   },
   "file_extension": ".py",
   "mimetype": "text/x-python",
   "name": "python",
   "nbconvert_exporter": "python",
   "pygments_lexer": "ipython3",
   "version": "3.6.4"
  }
 },
 "nbformat": 4,
 "nbformat_minor": 2
}
