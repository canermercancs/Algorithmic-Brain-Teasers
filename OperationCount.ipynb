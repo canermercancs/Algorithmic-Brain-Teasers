{
 "cells": [
  {
   "cell_type": "markdown",
   "metadata": {},
   "source": [
    "## Simple DP problems related to number of Operations"
   ]
  },
  {
   "cell_type": "markdown",
   "metadata": {},
   "source": [
    "### Problem #1"
   ]
  },
  {
   "cell_type": "markdown",
   "metadata": {},
   "source": [
    "Find minimum number of operations that reduces a given number to one;\n",
    "possible operations are: <br>\n",
    "i) decrease by 1 <br>\n",
    "ii) divide by 2 <br>\n",
    "iii) divide by 3"
   ]
  },
  {
   "cell_type": "code",
   "execution_count": 1,
   "metadata": {},
   "outputs": [
    {
     "name": "stdout",
     "output_type": "stream",
     "text": [
      "3\n"
     ]
    }
   ],
   "source": [
    "from dynamic_programming.operationCount import reduceNto1\n",
    "\n",
    "N = 10\n",
    "print(reduceNto1(N))"
   ]
  },
  {
   "cell_type": "markdown",
   "metadata": {},
   "source": [
    "### Problem #2"
   ]
  },
  {
   "cell_type": "markdown",
   "metadata": {},
   "source": [
    "Find the number of ways a person can climb stairs with N steps, if the person can climb the steps <br>\n",
    "i) one step at a time <br>\n",
    "ii) two steps at a time <br>\n",
    "iii) three steps at a time "
   ]
  },
  {
   "cell_type": "code",
   "execution_count": 2,
   "metadata": {},
   "outputs": [
    {
     "name": "stdout",
     "output_type": "stream",
     "text": [
      "501774317241\n"
     ]
    }
   ],
   "source": [
    "from dynamic_programming.operationCount import climb_stairs\n",
    "\n",
    "num_steps = 45\n",
    "print(climb_stairs(num_steps))"
   ]
  }
 ],
 "metadata": {
  "kernelspec": {
   "display_name": "Python 3",
   "language": "python",
   "name": "python3"
  },
  "language_info": {
   "codemirror_mode": {
    "name": "ipython",
    "version": 3
   },
   "file_extension": ".py",
   "mimetype": "text/x-python",
   "name": "python",
   "nbconvert_exporter": "python",
   "pygments_lexer": "ipython3",
   "version": "3.6.4"
  }
 },
 "nbformat": 4,
 "nbformat_minor": 2
}
