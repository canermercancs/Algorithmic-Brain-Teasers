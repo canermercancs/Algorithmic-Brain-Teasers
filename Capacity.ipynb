{
 "cells": [
  {
   "cell_type": "markdown",
   "metadata": {},
   "source": [
    "## 0/1 Knapsack Problem"
   ]
  },
  {
   "cell_type": "markdown",
   "metadata": {},
   "source": [
    "Given a set of items, each with a weight and a value, determine the number of each item to include in a collection so that the total weight is less than or equal to a given limit and the total value is as large as possible."
   ]
  },
  {
   "cell_type": "code",
   "execution_count": 1,
   "metadata": {},
   "outputs": [
    {
     "name": "stdout",
     "output_type": "stream",
     "text": [
      "[0, 4, 4, 4, 4, 4, 4, 4, 4]\n",
      "[0, 4, 4, 5, 9, 9, 9, 9, 9]\n",
      "[0, 4, 4, 5, 9, 11, 11, 12, 16]\n",
      "[0, 4, 4, 5, 9, 11, 12, 16, 16]\n",
      "16\n",
      "weight: value\n",
      "{4: 7, 3: 5, 1: 4}\n"
     ]
    }
   ],
   "source": [
    "from dynamic_programming.capacity import knapsack, backtrack\n",
    "\n",
    "cap = 8 # burglar's bag capacity\n",
    "item_wt = [1, 3, 4, 6] # the weight of each jewelery\n",
    "item_val = [4, 5, 7, 12] # the value of each jewelery\n",
    "\n",
    "# maximize the burglar's performance; \n",
    "T = knapsack(cap, item_wt, item_val) # Dynamic Programming.\n",
    "bag = backtrack(T, item_wt, item_val) # bag content backtracking.\n",
    "\n",
    "for t in T:\n",
    "    print(t)\n",
    "print(T[-1][-1])\n",
    "print('weight: value')\n",
    "print(bag)"
   ]
  }
 ],
 "metadata": {
  "kernelspec": {
   "display_name": "Python 3",
   "language": "python",
   "name": "python3"
  },
  "language_info": {
   "codemirror_mode": {
    "name": "ipython",
    "version": 3
   },
   "file_extension": ".py",
   "mimetype": "text/x-python",
   "name": "python",
   "nbconvert_exporter": "python",
   "pygments_lexer": "ipython3",
   "version": "3.6.4"
  }
 },
 "nbformat": 4,
 "nbformat_minor": 2
}
